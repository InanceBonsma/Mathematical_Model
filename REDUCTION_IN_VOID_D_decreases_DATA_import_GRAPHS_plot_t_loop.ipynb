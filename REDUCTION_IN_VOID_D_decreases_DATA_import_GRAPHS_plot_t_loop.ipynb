{
 "cells": [
  {
   "cell_type": "markdown",
   "metadata": {},
   "source": [
    "# 3D Geometric Model of Inflated Dunnage Bag - Reduction in Void"
   ]
  },
  {
   "cell_type": "markdown",
   "metadata": {},
   "source": [
    "## Assumptions:"
   ]
  },
  {
   "cell_type": "markdown",
   "metadata": {},
   "source": [
    "1. Material is rigid\n",
    "2. Idealized geometry\n",
    "3. Not rate dependent\n",
    "4. Mass is constant\n",
    "5. Temperature has no effect on the material or the inflated air"
   ]
  },
  {
   "cell_type": "markdown",
   "metadata": {
    "collapsed": true
   },
   "source": [
    "## Import Libraries:"
   ]
  },
  {
   "cell_type": "code",
   "execution_count": 14,
   "metadata": {
    "collapsed": false
   },
   "outputs": [],
   "source": [
    "import os\n",
    "import pandas as pd\n",
    "import matplotlib.pyplot as plt, numpy as np\n",
    "from scipy.interpolate import spline\n",
    "from math import pi #import pi function for simple reference"
   ]
  },
  {
   "cell_type": "markdown",
   "metadata": {},
   "source": [
    "## Functions:"
   ]
  },
  {
   "cell_type": "code",
   "execution_count": 15,
   "metadata": {
    "collapsed": true
   },
   "outputs": [],
   "source": [
    "#Find volume from length, width and diameter\n",
    "def updateVolume(width,length,diameter):\n",
    "    LengthLong = width - float(pi*diameter)/2 \n",
    "    AreaLong = diameter*LengthLong + float(pi*diameter**2)/4\n",
    "    LengthShort = length - float(pi*diameter)/2\n",
    "    AreaShort = diameter*LengthShort + float(pi*diameter**2)/4\n",
    "    VolumeSphere = float(1/6)*(diameter**3)*(pi)\n",
    "    return (AreaLong*LengthShort) + (AreaShort*LengthLong) + VolumeSphere"
   ]
  },
  {
   "cell_type": "code",
   "execution_count": 16,
   "metadata": {
    "collapsed": true
   },
   "outputs": [],
   "source": [
    "#Update the Pressure using Ideal Gas Law\n",
    "def updatePressure(mass,volume):\n",
    "    return mass*8.15*300/volume"
   ]
  },
  {
   "cell_type": "code",
   "execution_count": 17,
   "metadata": {
    "collapsed": true
   },
   "outputs": [],
   "source": [
    "#Get the mass using the Ideal Gas Law\n",
    "def updateMass(pressure,volume):\n",
    "    return(pressure*volume)/(8.15*300.0)"
   ]
  },
  {
   "cell_type": "code",
   "execution_count": 18,
   "metadata": {
    "collapsed": true
   },
   "outputs": [],
   "source": [
    "#Get stess from Barlow's formula\n",
    "def updateStress(diameter,pressure): \n",
    "    return (diameter*pressure)/(2*1)"
   ]
  },
  {
   "cell_type": "code",
   "execution_count": 19,
   "metadata": {
    "collapsed": true
   },
   "outputs": [],
   "source": [
    "#Find the new length using the strain calculated\n",
    "def updateLength(length,strain):\n",
    "    ChangeInLength = length*strain \n",
    "    return length+ChangeInLengthdirectory"
   ]
  },
  {
   "cell_type": "code",
   "execution_count": 20,
   "metadata": {
    "collapsed": false
   },
   "outputs": [],
   "source": [
    "#Get strain from stress-strain curve\n",
    "def getStrain(stress,strain,stress_barlow):\n",
    "    index = np.array(stress).searchsorted(stress_barlow)#find index from barlow's stress value\n",
    "    x2 = strain[index-1] #find strain value to left\n",
    "    x1 = strain[index] #find strain value to right\n",
    "    y2 = stress[index-1] #find stress value to left\n",
    "    y1 = stress[index] #find stress value to right\n",
    "    return x1 + (stress_barlow-y1)*(x2 - x1)/(y2 - y1)"
   ]
  },
  {
   "cell_type": "markdown",
   "metadata": {},
   "source": [
    "## Import Data for Stress-Strain:"
   ]
  },
  {
   "cell_type": "code",
   "execution_count": 21,
   "metadata": {
    "collapsed": false
   },
   "outputs": [],
   "source": [
    "#for root,dirs,files in os.walk('C:\\Users\\Inance\\Documents\\Thesis\\Experiments\\Tensile_Tests\\Trial_Round\\Tensile_test_mts\\Inance_pp_mts\\8_5_2016_300mm_min_GREEN\\WAR'):\n",
    "   # for file in files:\n",
    "tensile=pd.read_csv(r'C:\\Users\\Inance\\Documents\\Thesis\\Experiments\\Tensile_Tests\\Trial_Round\\Tensile_test_mts\\Inance_pp_mts\\8_5_2016_300mm_min_GREEN\\WARP\\specimen1.1.txt',header=None,names=['Time','Load','Extension','Strain','Crosshead','Extensometer'])\n",
    "load=np.array(tensile.Load)\n",
    "crosshead=np.array(tensile.Crosshead)\n",
    "sig=load*70*0.4*10**3\n",
    "eps=(90-crosshead)/90\n",
    "#print(sig,eps)"
   ]
  },
  {
   "cell_type": "markdown",
   "metadata": {},
   "source": [
    "## Main A - Just Inflated:"
   ]
  },
  {
   "cell_type": "code",
   "execution_count": 22,
   "metadata": {
    "collapsed": false
   },
   "outputs": [],
   "source": [
    "def MainA(w,l,d,m,V,P,sig_b,sig,eps):\n",
    "    # Main A - loop parameters:\n",
    "    max_iter = 200 #maximum number of iterations\n",
    "    m_tol = 0.0005 #mass tolerance\n",
    "    i = 0 #starting number of iteration\n",
    "    m_diff = 10.0 #\n",
    "    m_old = 100 #old mass \n",
    "    \n",
    "    \n",
    "    while (m_diff >= m_tol and i < max_iter):\n",
    "        P.append(P[0]) #update Pressure\n",
    "    \n",
    "        sig_b.append(updateStress(d,P[i+1])) #get Stress using Barlow's formula\n",
    "    \n",
    "        epsa.append(getStrain(sig,eps,sig_b[i+1])) #call Strain function\n",
    "    \n",
    "        l.append(updateLength(l[0],epsa[i+1]))#get updated length\n",
    "    \n",
    "        V.append(updateVolume(w,l[i+1],d)) #get Volume\n",
    "    \n",
    "        m.append(updateMass(P[i+1],V[i+1])) #initial mass from Ideal Gas Law\n",
    "    \n",
    "        #Loop constraints\n",
    "        m_diff = np.abs(m[i+1] - m_old) #calculate abs difference between old m and new m\n",
    "        m_old = m[i+1] #set the old m equal to the current m for the next loop\n",
    "\n",
    "\n",
    "        i+=1 #increment i to loop\n",
    "        return l,d,m,V,P,sig_b"
   ]
  },
  {
   "cell_type": "markdown",
   "metadata": {},
   "source": [
    "## Main B - Reduction in Void:"
   ]
  },
  {
   "cell_type": "code",
   "execution_count": 23,
   "metadata": {
    "collapsed": false
   },
   "outputs": [],
   "source": [
    "def MainB(w,l,d,m,V,P,sig_b,sig,eps):\n",
    "\n",
    "    d_red=[0.3] #diameter with reduction main\n",
    "    m_red = [m[2]] #end mass of Main A, starting mass for Main B\n",
    "    V_red = [V[2]] #end volume of Main A, starting volume for Main B\n",
    "    P_red = [P[2]] #end pressure of Main A, starting pressure for Main B\n",
    "    sig_b_red = [sig_b[2]] #end barlow stress of Main A, starting barlow stress for Main B\n",
    "    epsa_red = [epsa[2]] #end strain of Main A, starting strain for Main B\n",
    "    l_red = [l[2]] #end length of Main A, starting length for Main B\n",
    "    \n",
    "    #Loop parameters:\n",
    "    max_iter = 5\n",
    "    k = 0 #number of iterations\n",
    "    l_tol = 0.0005\n",
    "    l_diff = 10.0\n",
    "    l_old = 10\n",
    "\n",
    "    while l_diff >= l_tol and k < max_iter:\n",
    "    \n",
    "        V_red.append(updateVolume(w,l_red[k],d_red[0])) #get Volume\n",
    "    \n",
    "        P_red.append(updatePressure(m_red[0],V_red[k+1]))\n",
    "    \n",
    "        sig_b_red.append(updateStress(d_red[0],P_red[k+1]))\n",
    "    \n",
    "        epsa_red.append(getStrain(sig,eps,sig_b_red[k+1]))\n",
    "    \n",
    "        l_red.append(updateLength(l_red[0],epsa_red[k+1]))#get updated length\n",
    "    \n",
    "        #Loop constraints\n",
    "        l_diff = np.abs(l_red[k+1] - l_old) #calculate abs difference between old V and new V\n",
    "        l_old = l_red[k+1] #set the old V equal to the current V for the next loop\n",
    "        print(d_red[0],'\\t',P_red[k+1],'\\t',epsa_red[k+1],'\\t',V_red[k+1],'\\t',sig_b_red[k+1])\n",
    "        k+=1 #increment k to loop \n",
    "        \n",
    "        return l_red,d_red,m_red,V_red,P_red,sig_b_red"
   ]
  },
  {
   "cell_type": "markdown",
   "metadata": {},
   "source": [
    "## MAIN - Time loop:"
   ]
  },
  {
   "cell_type": "code",
   "execution_count": 24,
   "metadata": {
    "collapsed": false
   },
   "outputs": [
    {
     "name": "stdout",
     "output_type": "stream",
     "text": [
      "d_red \t P_red \t\t\t epsa_red \t\t V_red \t sig_b_red\n"
     ]
    }
   ],
   "source": [
    "time = 10\n",
    "t=0\n",
    "#Constants:\n",
    "w=1.5\n",
    "d=0.5\n",
    "dur=1.0\n",
    "\n",
    "#Initial values:\n",
    "l=[2.0] #initial length\n",
    "P=[100000]  #initial pressure absolute!!!\n",
    "V=[10]\n",
    "m=[updateMass(P[0],V[0])] #initial mass from Ideal Gas Law\n",
    "sig_b = [updateStress(d,P[0])] #initial stress form Barlows\n",
    "epsa = [0.0]\n",
    "\n",
    "#Input parameters for Main B:\n",
    "w=1.5\n",
    "\n",
    "Main_A = [0]\n",
    "\n",
    "print('d_red','\\t','P_red','\\t\\t\\t','epsa_red','\\t\\t','V_red','\\t','sig_b_red')\n",
    "    \n",
    "while t<=time:\n",
    "    Main_A.append(MainA(w,l,d,m,V,P,sig_b,sig,eps))  \n",
    "\n",
    "    #MainB(w,l,d,m,V,P,sig_b,sig,eps)\n",
    "    t+=1"
   ]
  },
  {
   "cell_type": "markdown",
   "metadata": {
    "collapsed": true
   },
   "source": [
    "## Input Graphs:"
   ]
  },
  {
   "cell_type": "markdown",
   "metadata": {},
   "source": [
    "### Stress vs Strain"
   ]
  },
  {
   "cell_type": "code",
   "execution_count": 25,
   "metadata": {
    "collapsed": false
   },
   "outputs": [
    {
     "data": {
      "image/png": "[encoded data removed]",
      "text/plain": [
       "<matplotlib.figure.Figure at 0x1c7f5d47588>"
      ]
     },
     "metadata": {},
     "output_type": "display_data"
    },
    {
     "data": {
      "text/plain": [
       "<function matplotlib.pyplot.close>"
      ]
     },
     "execution_count": 25,
     "metadata": {},
     "output_type": "execute_result"
    }
   ],
   "source": [
    "#Stress vs Strain - Data generated by Tensile Test\n",
    "plt.figure(1)\n",
    "axis_font = {'fontname':'Constantia', 'size':'14'}\n",
    "plt.show(plt.plot(eps,sig))\n",
    "plt.ylabel(\"Stress\",**axis_font),plt.xlabel(\"Strain\",**axis_font)\n",
    "plt.close"
   ]
  },
  {
   "cell_type": "markdown",
   "metadata": {},
   "source": [
    "### Pressure vs Barlow's Stress"
   ]
  },
  {
   "cell_type": "code",
   "execution_count": 26,
   "metadata": {
    "collapsed": false
   },
   "outputs": [
    {
     "ename": "NameError",
     "evalue": "name 'sig_b_red' is not defined",
     "output_type": "error",
     "traceback": [
      "\u001b[0;31m---------------------------------------------------------------------------\u001b[0m",
      "\u001b[0;31mNameError\u001b[0m                                 Traceback (most recent call last)",
      "\u001b[0;32m<ipython-input-26-38140efbba06>\u001b[0m in \u001b[0;36m<module>\u001b[0;34m()\u001b[0m\n\u001b[1;32m      1\u001b[0m \u001b[0maxis_font\u001b[0m \u001b[1;33m=\u001b[0m \u001b[1;33m{\u001b[0m\u001b[1;34m'fontname'\u001b[0m\u001b[1;33m:\u001b[0m\u001b[1;34m'Constantia'\u001b[0m\u001b[1;33m,\u001b[0m \u001b[1;34m'size'\u001b[0m\u001b[1;33m:\u001b[0m\u001b[1;34m'14'\u001b[0m\u001b[1;33m}\u001b[0m\u001b[1;33m\u001b[0m\u001b[0m\n\u001b[0;32m----> 2\u001b[0;31m \u001b[0mplt\u001b[0m\u001b[1;33m.\u001b[0m\u001b[0mshow\u001b[0m\u001b[1;33m(\u001b[0m\u001b[0mplt\u001b[0m\u001b[1;33m.\u001b[0m\u001b[0mplot\u001b[0m\u001b[1;33m(\u001b[0m\u001b[0msig_b_red\u001b[0m\u001b[1;33m,\u001b[0m\u001b[0mP_red\u001b[0m\u001b[1;33m)\u001b[0m\u001b[1;33m)\u001b[0m\u001b[1;33m\u001b[0m\u001b[0m\n\u001b[0m\u001b[1;32m      3\u001b[0m \u001b[0mplt\u001b[0m\u001b[1;33m.\u001b[0m\u001b[0mxlabel\u001b[0m\u001b[1;33m(\u001b[0m\u001b[1;34m\"Barlow's stress\"\u001b[0m\u001b[1;33m,\u001b[0m\u001b[1;33m**\u001b[0m\u001b[0maxis_font\u001b[0m\u001b[1;33m)\u001b[0m\u001b[1;33m,\u001b[0m\u001b[0mplt\u001b[0m\u001b[1;33m.\u001b[0m\u001b[0mylabel\u001b[0m\u001b[1;33m(\u001b[0m\u001b[1;34m\"Pressure\"\u001b[0m\u001b[1;33m,\u001b[0m\u001b[1;33m**\u001b[0m\u001b[0maxis_font\u001b[0m\u001b[1;33m)\u001b[0m\u001b[1;33m\u001b[0m\u001b[0m\n\u001b[1;32m      4\u001b[0m \u001b[0mplt\u001b[0m\u001b[1;33m.\u001b[0m\u001b[0mclose\u001b[0m\u001b[1;33m\u001b[0m\u001b[0m\n",
      "\u001b[0;31mNameError\u001b[0m: name 'sig_b_red' is not defined"
     ]
    }
   ],
   "source": [
    "plt.figure(2)\n",
    "axis_font = {'fontname':'Constantia', 'size':'14'}\n",
    "plt.show(plt.plot(sig_b_red,P_red))\n",
    "plt.xlabel(\"Barlow's stress\",**axis_font),plt.ylabel(\"Pressure\",**axis_font)\n",
    "plt.close"
   ]
  },
  {
   "cell_type": "markdown",
   "metadata": {},
   "source": [
    "## Iteration Graphs:"
   ]
  },
  {
   "cell_type": "markdown",
   "metadata": {},
   "source": [
    "### Pressure vs Iteration number"
   ]
  },
  {
   "cell_type": "code",
   "execution_count": null,
   "metadata": {
    "collapsed": false
   },
   "outputs": [],
   "source": [
    "#Pressure vs Iteration number \n",
    "plt.figure(3)\n",
    "axis_font = {'fontname':'Constantia', 'size':'14'}\n",
    "plt.show(plt.plot(range(len(P_red)),P_red))\n",
    "plt.ylabel(\"Pressure\",**axis_font),plt.xlabel(\"Iteration number\",**axis_font)\n",
    "plt.close"
   ]
  },
  {
   "cell_type": "markdown",
   "metadata": {},
   "source": [
    "### Diameter vs Iteration number"
   ]
  },
  {
   "cell_type": "code",
   "execution_count": null,
   "metadata": {
    "collapsed": false
   },
   "outputs": [],
   "source": [
    "#Diameter vs Iteration number \n",
    "plt.figure(4)\n",
    "axis_font = {'fontname':'Constantia', 'size':'14'}\n",
    "plt.show(plt.plot(range(len(d_red)),d_red))\n",
    "plt.ylabel(\"Diameter\",**axis_font),plt.xlabel(\"Iteration number\",**axis_font)\n",
    "plt.close"
   ]
  },
  {
   "cell_type": "markdown",
   "metadata": {},
   "source": [
    "### Strain vs Iteration number"
   ]
  },
  {
   "cell_type": "code",
   "execution_count": null,
   "metadata": {
    "collapsed": false
   },
   "outputs": [],
   "source": [
    "#Strain vs Iteration number \n",
    "plt.figure(5)\n",
    "axis_font = {'fontname':'Constantia', 'size':'14'}\n",
    "plt.show(plt.plot(range(len(epsa_red)),epsa_red))\n",
    "plt.ylabel(\"Calculated Strain\",**axis_font),plt.xlabel(\"Iteration number\",**axis_font)\n",
    "plt.close"
   ]
  },
  {
   "cell_type": "markdown",
   "metadata": {},
   "source": [
    "### Volume vs Iteration number"
   ]
  },
  {
   "cell_type": "code",
   "execution_count": null,
   "metadata": {
    "collapsed": false
   },
   "outputs": [],
   "source": [
    "#Volume vs Iteration number \n",
    "plt.figure(6)\n",
    "axis_font = {'fontname':'Constantia', 'size':'14'}\n",
    "plt.show(plt.plot(range(len(V_red)),V_red))\n",
    "plt.ylabel(\"Volume\",**axis_font),plt.xlabel(\"Iteration number\",**axis_font)\n",
    "plt.close"
   ]
  },
  {
   "cell_type": "markdown",
   "metadata": {},
   "source": [
    "### Barlow's Stress vs Iteration number"
   ]
  },
  {
   "cell_type": "code",
   "execution_count": 27,
   "metadata": {
    "collapsed": false
   },
   "outputs": [
    {
     "ename": "NameError",
     "evalue": "name 'sig_b_red' is not defined",
     "output_type": "error",
     "traceback": [
      "\u001b[0;31m---------------------------------------------------------------------------\u001b[0m",
      "\u001b[0;31mNameError\u001b[0m                                 Traceback (most recent call last)",
      "\u001b[0;32m<ipython-input-27-49079d484fd8>\u001b[0m in \u001b[0;36m<module>\u001b[0;34m()\u001b[0m\n\u001b[1;32m      2\u001b[0m \u001b[0mplt\u001b[0m\u001b[1;33m.\u001b[0m\u001b[0mfigure\u001b[0m\u001b[1;33m(\u001b[0m\u001b[1;36m7\u001b[0m\u001b[1;33m)\u001b[0m\u001b[1;33m\u001b[0m\u001b[0m\n\u001b[1;32m      3\u001b[0m \u001b[0maxis_font\u001b[0m \u001b[1;33m=\u001b[0m \u001b[1;33m{\u001b[0m\u001b[1;34m'fontname'\u001b[0m\u001b[1;33m:\u001b[0m\u001b[1;34m'Constantia'\u001b[0m\u001b[1;33m,\u001b[0m \u001b[1;34m'size'\u001b[0m\u001b[1;33m:\u001b[0m\u001b[1;34m'14'\u001b[0m\u001b[1;33m}\u001b[0m\u001b[1;33m\u001b[0m\u001b[0m\n\u001b[0;32m----> 4\u001b[0;31m \u001b[0mplt\u001b[0m\u001b[1;33m.\u001b[0m\u001b[0mshow\u001b[0m\u001b[1;33m(\u001b[0m\u001b[0mplt\u001b[0m\u001b[1;33m.\u001b[0m\u001b[0mplot\u001b[0m\u001b[1;33m(\u001b[0m\u001b[0mrange\u001b[0m\u001b[1;33m(\u001b[0m\u001b[0mlen\u001b[0m\u001b[1;33m(\u001b[0m\u001b[0msig_b_red\u001b[0m\u001b[1;33m)\u001b[0m\u001b[1;33m)\u001b[0m\u001b[1;33m,\u001b[0m\u001b[0msig_b_red\u001b[0m\u001b[1;33m)\u001b[0m\u001b[1;33m)\u001b[0m\u001b[1;33m\u001b[0m\u001b[0m\n\u001b[0m\u001b[1;32m      5\u001b[0m \u001b[0mplt\u001b[0m\u001b[1;33m.\u001b[0m\u001b[0mylabel\u001b[0m\u001b[1;33m(\u001b[0m\u001b[1;34m\"Barlow's Stress\"\u001b[0m\u001b[1;33m,\u001b[0m\u001b[1;33m**\u001b[0m\u001b[0maxis_font\u001b[0m\u001b[1;33m)\u001b[0m\u001b[1;33m,\u001b[0m\u001b[0mplt\u001b[0m\u001b[1;33m.\u001b[0m\u001b[0mxlabel\u001b[0m\u001b[1;33m(\u001b[0m\u001b[1;34m\"Iteration number\"\u001b[0m\u001b[1;33m,\u001b[0m\u001b[1;33m**\u001b[0m\u001b[0maxis_font\u001b[0m\u001b[1;33m)\u001b[0m\u001b[1;33m\u001b[0m\u001b[0m\n\u001b[1;32m      6\u001b[0m \u001b[0mplt\u001b[0m\u001b[1;33m.\u001b[0m\u001b[0mclose\u001b[0m\u001b[1;33m\u001b[0m\u001b[0m\n",
      "\u001b[0;31mNameError\u001b[0m: name 'sig_b_red' is not defined"
     ]
    }
   ],
   "source": [
    "#Barlow's Stress vs Iteration number \n",
    "plt.figure(7)\n",
    "axis_font = {'fontname':'Constantia', 'size':'14'}\n",
    "plt.show(plt.plot(range(len(sig_b_red)),sig_b_red))\n",
    "plt.ylabel(\"Barlow's Stress\",**axis_font),plt.xlabel(\"Iteration number\",**axis_font)\n",
    "plt.close"
   ]
  },
  {
   "cell_type": "code",
   "execution_count": null,
   "metadata": {
    "collapsed": true
   },
   "outputs": [],
   "source": []
  }
 ],
 "metadata": {
  "anaconda-cloud": {},
  "kernelspec": {
   "display_name": "Python [conda root]",
   "language": "python",
   "name": "conda-root-py"
  },
  "language_info": {
   "codemirror_mode": {
    "name": "ipython",
    "version": 3
   },
   "file_extension": ".py",
   "mimetype": "text/x-python",
   "name": "python",
   "nbconvert_exporter": "python",
   "pygments_lexer": "ipython3",
   "version": "3.5.2"
  }
 },
 "nbformat": 4,
 "nbformat_minor": 1
}
